{
 "cells": [
  {
   "cell_type": "code",
   "execution_count": 4,
   "metadata": {
    "collapsed": false
   },
   "outputs": [
    {
     "name": "stdout",
     "output_type": "stream",
     "text": [
      "0\n",
      "1\n",
      "nonzero\n",
      "2\n",
      "nonzero\n",
      "3\n",
      "nonzero\n",
      "4\n",
      "nonzero\n"
     ]
    }
   ],
   "source": [
    "for index in range(5):\n",
    "    print(index)\n",
    "    \n",
    "    if index:\n",
    "        print(\"nonzero\")"
   ]
  },
  {
   "cell_type": "code",
   "execution_count": 5,
   "metadata": {
    "collapsed": false
   },
   "outputs": [
    {
     "data": {
      "text/plain": [
       "4"
      ]
     },
     "execution_count": 5,
     "metadata": {},
     "output_type": "execute_result"
    }
   ],
   "source": [
    "index"
   ]
  },
  {
   "cell_type": "code",
   "execution_count": 6,
   "metadata": {
    "collapsed": false
   },
   "outputs": [
    {
     "data": {
      "text/plain": [
       "int"
      ]
     },
     "execution_count": 6,
     "metadata": {},
     "output_type": "execute_result"
    }
   ],
   "source": [
    "type(index)"
   ]
  },
  {
   "cell_type": "code",
   "execution_count": 7,
   "metadata": {
    "collapsed": false
   },
   "outputs": [
    {
     "data": {
      "text/plain": [
       "4.0"
      ]
     },
     "execution_count": 7,
     "metadata": {},
     "output_type": "execute_result"
    }
   ],
   "source": [
    "float(index)"
   ]
  },
  {
   "cell_type": "code",
   "execution_count": 8,
   "metadata": {
    "collapsed": false
   },
   "outputs": [
    {
     "data": {
      "text/plain": [
       "True"
      ]
     },
     "execution_count": 8,
     "metadata": {},
     "output_type": "execute_result"
    }
   ],
   "source": [
    "bool(index)"
   ]
  },
  {
   "cell_type": "code",
   "execution_count": 9,
   "metadata": {
    "collapsed": false
   },
   "outputs": [
    {
     "data": {
      "text/plain": [
       "False"
      ]
     },
     "execution_count": 9,
     "metadata": {},
     "output_type": "execute_result"
    }
   ],
   "source": [
    "bool(0)"
   ]
  },
  {
   "cell_type": "code",
   "execution_count": 20,
   "metadata": {
    "collapsed": false
   },
   "outputs": [
    {
     "name": "stdout",
     "output_type": "stream",
     "text": [
      "False\n"
     ]
    },
    {
     "data": {
      "text/plain": [
       "False"
      ]
     },
     "execution_count": 20,
     "metadata": {},
     "output_type": "execute_result"
    }
   ],
   "source": [
    "test = len([0])\n",
    "\n",
    "if test:\n",
    "    print(\"True\")\n",
    "else:\n",
    "    print(\"False\")\n",
    "    \n",
    "bool(test)"
   ]
  },
  {
   "cell_type": "code",
   "execution_count": 21,
   "metadata": {
    "collapsed": true
   },
   "outputs": [],
   "source": [
    "import numpy as np"
   ]
  },
  {
   "cell_type": "code",
   "execution_count": 22,
   "metadata": {
    "collapsed": false
   },
   "outputs": [
    {
     "name": "stdout",
     "output_type": "stream",
     "text": [
      "[0] [0]\n"
     ]
    }
   ],
   "source": [
    "my_array = np.array([0])\n",
    "my_list = [0]\n",
    "\n",
    "print(my_array, my_list)"
   ]
  },
  {
   "cell_type": "code",
   "execution_count": 25,
   "metadata": {
    "collapsed": false
   },
   "outputs": [
    {
     "data": {
      "text/plain": [
       "[0, 1, 1, 1]"
      ]
     },
     "execution_count": 25,
     "metadata": {},
     "output_type": "execute_result"
    }
   ],
   "source": [
    "my_list.append(1)\n",
    "my_list"
   ]
  },
  {
   "cell_type": "code",
   "execution_count": 28,
   "metadata": {
    "collapsed": false
   },
   "outputs": [
    {
     "data": {
      "text/plain": [
       "1"
      ]
     },
     "execution_count": 28,
     "metadata": {},
     "output_type": "execute_result"
    }
   ],
   "source": [
    "3%2"
   ]
  },
  {
   "cell_type": "code",
   "execution_count": 34,
   "metadata": {
    "collapsed": false
   },
   "outputs": [
    {
     "name": "stdout",
     "output_type": "stream",
     "text": [
      "0\n",
      "2\n",
      "4\n",
      "6\n",
      "8\n",
      "10\n",
      "12\n",
      "14\n",
      "16\n",
      "18\n",
      "didn't break\n"
     ]
    }
   ],
   "source": [
    "for i in range(20):\n",
    "    if i%2: # is it odd?\n",
    "        continue\n",
    "    if i>100:\n",
    "        break\n",
    "    print(i)\n",
    "else:\n",
    "    # I didn't break\n",
    "    print(\"didn't break\")"
   ]
  },
  {
   "cell_type": "code",
   "execution_count": 35,
   "metadata": {
    "collapsed": false
   },
   "outputs": [
    {
     "data": {
      "text/plain": [
       "(9, 0)"
      ]
     },
     "execution_count": 35,
     "metadata": {},
     "output_type": "execute_result"
    }
   ],
   "source": [
    "for i in range(10):\n",
    "    for j in range(10):\n",
    "        if i>5:\n",
    "            break # breaks from inner loop\n",
    "i, j"
   ]
  },
  {
   "cell_type": "code",
   "execution_count": 37,
   "metadata": {
    "collapsed": false
   },
   "outputs": [
    {
     "data": {
      "text/plain": [
       "(6, 0)"
      ]
     },
     "execution_count": 37,
     "metadata": {},
     "output_type": "execute_result"
    }
   ],
   "source": [
    "# it's possible to break from an inner loop:\n",
    "\n",
    "for i in range(10):\n",
    "    for j in range(10):\n",
    "        if i>5:\n",
    "            break # breaks from inner loop\n",
    "    else:\n",
    "        # didn't break from inner loop\n",
    "        continue\n",
    "    # did break from inner loop\n",
    "    break # break from outer loop\n",
    "i, j\n",
    "\n",
    "# but a pain"
   ]
  },
  {
   "cell_type": "code",
   "execution_count": 46,
   "metadata": {
    "collapsed": false
   },
   "outputs": [
    {
     "name": "stdout",
     "output_type": "stream",
     "text": [
      "0 0\n",
      "0 1\n",
      "0 2\n",
      "1 0\n",
      "1 1\n",
      "1 2\n",
      "2 0\n",
      "2 1\n",
      "2 2\n",
      "3 0\n",
      "3 1\n",
      "3 2\n",
      "4 0\n",
      "Carry on now\n"
     ]
    }
   ],
   "source": [
    "try:\n",
    "    for i in range(10):\n",
    "        for j in range(3):\n",
    "            print(i,j)\n",
    "            if i>3:\n",
    "                raise ValueError(\"Stop!\")\n",
    "except ValueError:\n",
    "    print(\"Carry on now\")"
   ]
  },
  {
   "cell_type": "code",
   "execution_count": 55,
   "metadata": {
    "collapsed": false
   },
   "outputs": [
    {
     "name": "stdout",
     "output_type": "stream",
     "text": [
      "Oops\n"
     ]
    }
   ],
   "source": [
    "i = 0\n",
    "try:\n",
    "    print(5/i)\n",
    "except ZeroDivisionError:\n",
    "    print(\"Oops\")\n",
    "        "
   ]
  },
  {
   "cell_type": "code",
   "execution_count": 49,
   "metadata": {
    "collapsed": false
   },
   "outputs": [
    {
     "ename": "ZeroDivisionError",
     "evalue": "division by zero",
     "output_type": "error",
     "traceback": [
      "\u001b[0;31m---------------------------------------------------------------------------\u001b[0m",
      "\u001b[0;31mZeroDivisionError\u001b[0m                         Traceback (most recent call last)",
      "\u001b[0;32m<ipython-input-49-58044e04d8f9>\u001b[0m in \u001b[0;36m<module>\u001b[0;34m()\u001b[0m\n\u001b[0;32m----> 1\u001b[0;31m \u001b[0mprint\u001b[0m\u001b[0;34m(\u001b[0m\u001b[0;36m5\u001b[0m\u001b[0;34m/\u001b[0m\u001b[0mi\u001b[0m\u001b[0;34m)\u001b[0m\u001b[0;34m\u001b[0m\u001b[0m\n\u001b[0m",
      "\u001b[0;31mZeroDivisionError\u001b[0m: division by zero"
     ]
    }
   ],
   "source": [
    "print(5/i)"
   ]
  },
  {
   "cell_type": "code",
   "execution_count": 56,
   "metadata": {
    "collapsed": true
   },
   "outputs": [],
   "source": [
    "import random\n"
   ]
  },
  {
   "cell_type": "code",
   "execution_count": 61,
   "metadata": {
    "collapsed": true
   },
   "outputs": [],
   "source": [
    "random.expovariate??"
   ]
  },
  {
   "cell_type": "markdown",
   "metadata": {},
   "source": [
    "# Profiling"
   ]
  },
  {
   "cell_type": "code",
   "execution_count": 63,
   "metadata": {
    "collapsed": false
   },
   "outputs": [
    {
     "name": "stdout",
     "output_type": "stream",
     "text": [
      "The line_profiler extension is already loaded. To reload it, use:\n",
      "  %reload_ext line_profiler\n"
     ]
    }
   ],
   "source": [
    "%load_ext line_profiler"
   ]
  },
  {
   "cell_type": "code",
   "execution_count": 67,
   "metadata": {
    "collapsed": true
   },
   "outputs": [],
   "source": [
    "%matplotlib inline\n",
    "import numpy as np\n",
    "from matplotlib import pyplot as plt\n",
    "from statistics import stdev"
   ]
  },
  {
   "cell_type": "code",
   "execution_count": 70,
   "metadata": {
    "collapsed": true
   },
   "outputs": [],
   "source": [
    "def run_everything():\n",
    "    # put your code here\n",
    "    import random\n",
    "    random.seed(1)\n",
    "    k1= 0.015\n",
    "    k2= 0.00004\n",
    "    k3= 0.0004\n",
    "    k4= 0.04\n",
    "    end_time= 600\n",
    "    iterations=10\n",
    "\n",
    "    #fn to calculate rates. r and f will be the current rabbit and fox populations\n",
    "    def rates(r, f):\n",
    "        rabbit_birth= k1*r\n",
    "        rabbit_death= k2*r*f\n",
    "        fox_birth= k3*r*f\n",
    "        fox_death= k4*f\n",
    "        current_rates= (rabbit_birth, rabbit_death, fox_birth, fox_death)\n",
    "        return current_rates\n",
    "\n",
    "    #created variables to count how many times fox population=0, second peak location arrays\n",
    "    extinct=0\n",
    "    second_peak_foxes= []\n",
    "    second_peak_t= []\n",
    "\n",
    "    #loop to iterate through the chosen number of iterations\n",
    "    for i in range(iterations):\n",
    "        #created lists, filled with initial values. j is the index for the lists, looped in the while fn\n",
    "        t= []\n",
    "        foxes= []\n",
    "        rabbits= []\n",
    "        t.append(0)\n",
    "        foxes.append(200)\n",
    "        rabbits.append(400)\n",
    "        r=400\n",
    "        f=200\n",
    "        j=0\n",
    "\n",
    "        #loop kmc to determine the event (rabbit birth, fox death, etc) for each time in t\n",
    "        while t[-1] < end_time:\n",
    "            (rabbit_birth, rabbit_death, fox_birth, fox_death)= current_rates= rates(r, f)\n",
    "            sum_rates= sum(current_rates)\n",
    "            if sum_rates== 0:\n",
    "                #no rabbits or foxes left\n",
    "                extinct+=1\n",
    "                break\n",
    "            #get change in time\n",
    "            delta_t= random.expovariate(sum_rates)\n",
    "            t.append(t[j]+ delta_t)\n",
    "            event= random.uniform(0, sum_rates)\n",
    "            #assign ranges for each event\n",
    "            rdmax= rabbit_birth+ rabbit_death\n",
    "            fbmax= rdmax+ fox_birth\n",
    "            if event<rabbit_birth:\n",
    "                #rabbit born\n",
    "                rabbits.append(rabbits[j]+ 1)\n",
    "                r+=1\n",
    "                foxes.append(foxes[j])\n",
    "            else:\n",
    "                if rabbit_birth< event< rdmax:\n",
    "                    #rabbit dies\n",
    "                    rabbits.append(rabbits[j]- 1)\n",
    "                    r-=1\n",
    "                    foxes.append(foxes[j])\n",
    "                else:\n",
    "                    if rdmax< event< fbmax:\n",
    "                        #fox born\n",
    "                        rabbits.append(rabbits[j])\n",
    "                        foxes.append(foxes[j]+ 1)\n",
    "                        f+=1\n",
    "                    else:\n",
    "                        if fbmax< event< sum_rates:\n",
    "                            #fox dies\n",
    "                            rabbits.append(rabbits[j])\n",
    "                            foxes.append(foxes[j]- 1)\n",
    "                            f-=1\n",
    "                            if f==0:\n",
    "                                #no foxes left\n",
    "                                extinct+=1\n",
    "            #increase index counter for t, rabbits, and foxes\n",
    "            j= j+ 1\n",
    "\n",
    "        #format arrays\n",
    "        t= np.array(t)\n",
    "        rabbits= np.array(rabbits)\n",
    "        foxes= np.array(foxes)\n",
    "\n",
    "        #only the first 30 iterations are plotted so the graph is somewhat neat\n",
    "        if i< 30:\n",
    "            plt.plot(t, rabbits, 'c')\n",
    "            plt.plot(t, foxes, 'r')\n",
    "\n",
    "        #k is the index value of the peak\n",
    "        k= np.argmax(foxes* (t> 200)* (foxes> 100))\n",
    "        if k>0:\n",
    "            second_peak_t.append(t[k])\n",
    "            second_peak_foxes.append(foxes[k])\n",
    "\n",
    "    plt.legend(['Rabbits','Foxes'],loc=\"best\")\n",
    "    plt.ylim(0,3500)\n",
    "    plt.xlabel('Days')\n",
    "    plt.ylabel('Number of Living Animals')\n",
    "    plt.show()\n",
    "\n",
    "    print(\"The foxes went extinct {} times out of {} or {:.1f}%.\".format(extinct, iterations, 100*extinct/iterations))\n",
    "\n",
    "    #average values of time and foxes for the second fox peak, with standard deviation\n",
    "    avg_t= np.mean(second_peak_t)\n",
    "    avg_foxes= np.mean(second_peak_foxes)\n",
    "    stdevt= stdev(second_peak_t)\n",
    "    stdevf= stdev(second_peak_foxes)\n",
    "\n",
    "    print(\"The average second fox peak occurred at {:.1f} days, with an average maximum of {:.0f} foxes.\".format(avg_t, avg_foxes))\n",
    "\n",
    "    #the interquartile range, or the middle 50% spread of the data\n",
    "    upperquartile_t= np.percentile(second_peak_t, 75)\n",
    "    lowerquartile_t= np.percentile(second_peak_t, 25)\n",
    "    upperquartile_foxes= np.percentile(second_peak_foxes, 75)\n",
    "    lowerquartile_foxes= np.percentile(second_peak_foxes, 25)\n",
    "\n",
    "    print(\"The standard deviation of the days is {:.2f}, and the IQR is [{:.1f}-{:.1f}].\".format(stdevt, lowerquartile_t, upperquartile_t))\n",
    "    print(\"The standard deviation of the foxes is {:.2f}, and the IQR is [{:.1f}-{:.1f}].\".format(stdevf, lowerquartile_foxes, upperquartile_foxes))"
   ]
  },
  {
   "cell_type": "code",
   "execution_count": 71,
   "metadata": {
    "collapsed": false
   },
   "outputs": [
    {
     "data": {
      "image/png": "[encoded data removed]",
      "text/plain": [
       "<matplotlib.figure.Figure at 0x1081e3208>"
      ]
     },
     "metadata": {},
     "output_type": "display_data"
    },
    {
     "name": "stdout",
     "output_type": "stream",
     "text": [
      "The foxes went extinct 5 times out of 10 or 50.0%.\n",
      "The average second fox peak occurred at 392.7 days, with an average maximum of 2115 foxes.\n",
      "The standard deviation of the days is 20.49, and the IQR is [381.7-395.9].\n",
      "The standard deviation of the foxes is 311.70, and the IQR is [2037.5-2281.2].\n"
     ]
    }
   ],
   "source": [
    "%lprun -f run_everything run_everything()"
   ]
  },
  {
   "cell_type": "markdown",
   "metadata": {},
   "source": [
    "\n",
    "## Analysis\n",
    "\n",
    "The line profiler showed that\n",
    "```\n",
    "while max(t) < end_time:\n",
    "```\n",
    "was taking >80% of the time.\n",
    "Replacing it with\n",
    "```\n",
    "while t[-1] < end_time:\n",
    "```\n",
    "made the simulation go from 55 seconds to 9 seconds!"
   ]
  },
  {
   "cell_type": "code",
   "execution_count": null,
   "metadata": {
    "collapsed": true
   },
   "outputs": [],
   "source": []
  }
 ],
 "metadata": {
  "kernelspec": {
   "display_name": "Python [conda env:py3]",
   "language": "python",
   "name": "conda-env-py3-py"
  },
  "language_info": {
   "codemirror_mode": {
    "name": "ipython",
    "version": 3
   },
   "file_extension": ".py",
   "mimetype": "text/x-python",
   "name": "python",
   "nbconvert_exporter": "python",
   "pygments_lexer": "ipython3",
   "version": "3.5.2"
  }
 },
 "nbformat": 4,
 "nbformat_minor": 2
}
